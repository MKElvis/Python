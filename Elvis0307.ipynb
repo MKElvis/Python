{
  "nbformat": 4,
  "nbformat_minor": 0,
  "metadata": {
    "colab": {
      "provenance": [],
      "authorship_tag": "ABX9TyNBGavsnSGvy+dQz0VIqBgR",
      "include_colab_link": true
    },
    "kernelspec": {
      "name": "python3",
      "display_name": "Python 3"
    },
    "language_info": {
      "name": "python"
    }
  },
  "cells": [
    {
      "cell_type": "markdown",
      "metadata": {
        "id": "view-in-github",
        "colab_type": "text"
      },
      "source": [
        "<a href=\"https://colab.research.google.com/github/MKElvis/Python/blob/main/Elvis0307.ipynb\" target=\"_parent\"><img src=\"https://colab.research.google.com/assets/colab-badge.svg\" alt=\"Open In Colab\"/></a>"
      ]
    },
    {
      "cell_type": "markdown",
      "source": [
        "課本P1-1 冒險0 安裝Anaconda\n",
        "目的:安裝電腦版的程式編輯軟體Jupyter Notebook\n"
      ],
      "metadata": {
        "id": "bmwCRWQ-Yhlp"
      }
    },
    {
      "cell_type": "markdown",
      "source": [
        "課本P1-3 冒險1 開啟Jupyter Notebook\n",
        "練習:新增python程式檔. 學生姓名.ipynb並上傳至自己Google colab雲端編輯軟體."
      ],
      "metadata": {
        "id": "lgt9YQAXZ0nW"
      }
    },
    {
      "cell_type": "markdown",
      "source": [
        "課本P1-9 冒險2 Python計算機\n",
        "練習: 利用Python執行加減乘除運算"
      ],
      "metadata": {
        "id": "EogVWBS6aCp9"
      }
    },
    {
      "cell_type": "markdown",
      "source": [
        "課本P1-14 冒險3 用Python畫圖\n",
        "練習:使用數據分析套件Numpy與畫圖套件Matplotlib\n",
        "畫圖前必須執行的三行指令\n",
        "%matplotlib inline\n",
        "import numpy as np\n",
        "import matplotlib.pyplot as plt"
      ],
      "metadata": {
        "id": "B3Eh4zbPbSoD"
      }
    },
    {
      "cell_type": "markdown",
      "source": [
        "課本P1-20 冒險4 從常態分布抽樣\n",
        "練習:利用numpy產生隨機數字"
      ],
      "metadata": {
        "id": "C856fdojcEeB"
      }
    },
    {
      "cell_type": "code",
      "source": [
        "import numpy\n",
        "numpy.random.randn(3)"
      ],
      "metadata": {
        "colab": {
          "base_uri": "https://localhost:8080/"
        },
        "id": "OhuOrilFcyMB",
        "outputId": "db7ebc4d-0c87-4153-9388-1a5800001e9f"
      },
      "execution_count": null,
      "outputs": [
        {
          "output_type": "execute_result",
          "data": {
            "text/plain": [
              "array([-0.91755805, -1.17371831, -1.35323165])"
            ]
          },
          "metadata": {},
          "execution_count": 1
        }
      ]
    },
    {
      "cell_type": "code",
      "source": [
        "import numpy as np\n",
        "np.random.randn(3)  # 前一行指令已將numpy取別名為np, 所以np就等於numpy"
      ],
      "metadata": {
        "colab": {
          "base_uri": "https://localhost:8080/"
        },
        "id": "FR-JdIpNc3tx",
        "outputId": "5c25c58a-d2dd-44b4-c034-3ac889dcde65"
      },
      "execution_count": null,
      "outputs": [
        {
          "output_type": "execute_result",
          "data": {
            "text/plain": [
              "array([ 0.66326532, -2.88754145, -0.56234608])"
            ]
          },
          "metadata": {},
          "execution_count": 3
        }
      ]
    },
    {
      "cell_type": "code",
      "source": [
        "r = np.random.randint(1,101) #從1至100隨機抽一個數字\n",
        "print(r)"
      ],
      "metadata": {
        "colab": {
          "base_uri": "https://localhost:8080/"
        },
        "id": "HLmTHFx4dAUc",
        "outputId": "9ca60b63-fb1d-4ea7-d080-98b5c34d48d6"
      },
      "execution_count": null,
      "outputs": [
        {
          "output_type": "stream",
          "name": "stdout",
          "text": [
            "83\n"
          ]
        }
      ]
    },
    {
      "cell_type": "markdown",
      "source": [
        "課本P1-23 冒險5 畫個函數吧\n",
        "練習:指定x軸的開始與結束數字, 並產生指定的數字點\n",
        "np.linspace(開始, 結束, 總共取的點數)\n",
        "x = np.linspace(-10, 10, 500)\n",
        "y = x**2 + 1 #說明: 上個指令產生介於-10與10之間的500個點, 再取平方, 再加1, 並將運算結果指派給變數y \n",
        "## 英文變數命名大小寫必須前後一致, 否則執行會出現錯誤訊息\n",
        "## 課本中1-24頁產生數字希臘符號無法在Google colab中使用!"
      ],
      "metadata": {
        "id": "9Kjj6tazd8HS"
      }
    },
    {
      "cell_type": "markdown",
      "source": [
        "課本P1-27 冒險6 參數式畫圖其實也一樣!\n",
        "練習:畫圓\n",
        "固定值的半徑r = 3\n",
        "可變半徑r = 1 -sin(0)\n"
      ],
      "metadata": {
        "id": "scysLsGrljSk"
      }
    },
    {
      "cell_type": "code",
      "source": [],
      "metadata": {
        "id": "QtmaKvG4ZqTV"
      },
      "execution_count": null,
      "outputs": []
    },
    {
      "cell_type": "markdown",
      "source": [
        "課本P1-31 冒險7 Python的資料型態\n",
        "非常重點的觀念, 同學要多多練習並熟悉.\n",
        "##整數int\n",
        "##浮點數float\n",
        "##字串string, 就是指文字\n",
        "##串列list, 能夠儲存整數, 浮點數, 文字, 或是其它串列變數\n",
        "不同資料型態, 不能直接相加, 例如: 整數9 + 文字'Python'"
      ],
      "metadata": {
        "id": "kc-YMmaHmqwv"
      }
    },
    {
      "cell_type": "code",
      "source": [
        "# Page 1-31\n",
        "spam = 73\n",
        "egg = '你好'\n",
        "ham = [9, 4, 8, 7]"
      ],
      "metadata": {
        "id": "6vLM0_b8ZmOq"
      },
      "execution_count": null,
      "outputs": []
    },
    {
      "cell_type": "code",
      "source": [
        "egg"
      ],
      "metadata": {
        "colab": {
          "base_uri": "https://localhost:8080/",
          "height": 36
        },
        "id": "QVCoz9f3NxbN",
        "outputId": "35face9b-af68-4b30-e6c2-8c41063eb8c2"
      },
      "execution_count": null,
      "outputs": [
        {
          "output_type": "execute_result",
          "data": {
            "text/plain": [
              "'你好'"
            ],
            "application/vnd.google.colaboratory.intrinsic+json": {
              "type": "string"
            }
          },
          "metadata": {},
          "execution_count": 9
        }
      ]
    },
    {
      "cell_type": "code",
      "source": [
        "egg * 3"
      ],
      "metadata": {
        "colab": {
          "base_uri": "https://localhost:8080/",
          "height": 36
        },
        "id": "BPTEqtHZN1oO",
        "outputId": "2f068dc4-0ae3-4e06-f68a-69dbbbed5257"
      },
      "execution_count": null,
      "outputs": [
        {
          "output_type": "execute_result",
          "data": {
            "text/plain": [
              "'你好你好你好'"
            ],
            "application/vnd.google.colaboratory.intrinsic+json": {
              "type": "string"
            }
          },
          "metadata": {},
          "execution_count": 10
        }
      ]
    },
    {
      "cell_type": "code",
      "source": [],
      "metadata": {
        "id": "f3kHuLpZOAC6"
      },
      "execution_count": null,
      "outputs": []
    },
    {
      "cell_type": "code",
      "source": [
        "egg + 87"
      ],
      "metadata": {
        "colab": {
          "base_uri": "https://localhost:8080/",
          "height": 171
        },
        "id": "pAvYJL2AN8AR",
        "outputId": "2ed2cd98-5ab1-45a5-9bf2-e92f163362cb"
      },
      "execution_count": null,
      "outputs": [
        {
          "output_type": "error",
          "ename": "TypeError",
          "evalue": "ignored",
          "traceback": [
            "\u001b[0;31m---------------------------------------------------------------------------\u001b[0m",
            "\u001b[0;31mTypeError\u001b[0m                                 Traceback (most recent call last)",
            "\u001b[0;32m<ipython-input-11-64cb583c2999>\u001b[0m in \u001b[0;36m<module>\u001b[0;34m\u001b[0m\n\u001b[0;32m----> 1\u001b[0;31m \u001b[0megg\u001b[0m \u001b[0;34m+\u001b[0m \u001b[0;36m87\u001b[0m\u001b[0;34m\u001b[0m\u001b[0;34m\u001b[0m\u001b[0m\n\u001b[0m",
            "\u001b[0;31mTypeError\u001b[0m: can only concatenate str (not \"int\") to str"
          ]
        }
      ]
    },
    {
      "cell_type": "code",
      "source": [
        "type(egg) == type(87) #比較egg與87是否是同樣的資料型態"
      ],
      "metadata": {
        "colab": {
          "base_uri": "https://localhost:8080/"
        },
        "id": "FrQXmU0ROdrv",
        "outputId": "be55fd4c-5701-46cb-d1e8-a70fa2fe3366"
      },
      "execution_count": null,
      "outputs": [
        {
          "output_type": "execute_result",
          "data": {
            "text/plain": [
              "False"
            ]
          },
          "metadata": {},
          "execution_count": 16
        }
      ]
    },
    {
      "cell_type": "code",
      "source": [
        "print('egg是',type(egg),'87是', type(87))"
      ],
      "metadata": {
        "colab": {
          "base_uri": "https://localhost:8080/"
        },
        "id": "U9-hFNC6OCQS",
        "outputId": "8f6725d9-ac7c-40cf-fdd1-b19f99371eb6"
      },
      "execution_count": null,
      "outputs": [
        {
          "output_type": "stream",
          "name": "stdout",
          "text": [
            "egg是 <class 'str'> 87是 <class 'int'>\n"
          ]
        }
      ]
    },
    {
      "cell_type": "markdown",
      "source": [
        "課本P1-34 冒險8 重要的字典資料型態\n",
        "練習:建立字典{}, 大括號內的元素必須是配對, 即鍵值key:對應值value至少一對.\n",
        "提醒:鍵值key可以是文字或數字; 對應值value可以是數字, 文字, 或是串列list\n",
        "學習重點:新增字典, 依據鍵值key查詢對應值value, 以及刪除字典中的元素"
      ],
      "metadata": {
        "id": "d07aHURbSlG4"
      }
    },
    {
      "cell_type": "code",
      "source": [
        "# Page 1-34\n",
        "my_dict = {'spam':'午餐肉', 'egg':'雞蛋', 'ham':'火腿'}"
      ],
      "metadata": {
        "id": "QIHXtk0nZliF"
      },
      "execution_count": null,
      "outputs": []
    },
    {
      "cell_type": "code",
      "source": [
        "my_dict['ham']"
      ],
      "metadata": {
        "colab": {
          "base_uri": "https://localhost:8080/",
          "height": 36
        },
        "id": "oKq6GDhAPlw_",
        "outputId": "24854c2d-4f98-4709-d6a6-49b9cb7019ba"
      },
      "execution_count": null,
      "outputs": [
        {
          "output_type": "execute_result",
          "data": {
            "text/plain": [
              "'火腿'"
            ],
            "application/vnd.google.colaboratory.intrinsic+json": {
              "type": "string"
            }
          },
          "metadata": {},
          "execution_count": 18
        }
      ]
    },
    {
      "cell_type": "code",
      "source": [
        "my_dict['apple']='蘋果'"
      ],
      "metadata": {
        "id": "8ylZzR3BPucc"
      },
      "execution_count": null,
      "outputs": []
    },
    {
      "cell_type": "code",
      "source": [
        "my_dict"
      ],
      "metadata": {
        "colab": {
          "base_uri": "https://localhost:8080/"
        },
        "id": "NTTOPZKYQFuk",
        "outputId": "c6445bd2-ed78-4c16-8454-a31bfbceccc1"
      },
      "execution_count": null,
      "outputs": [
        {
          "output_type": "execute_result",
          "data": {
            "text/plain": [
              "{'spam': '午餐肉', 'egg': '雞蛋', 'ham': '火腿', 'apple': '蘋果'}"
            ]
          },
          "metadata": {},
          "execution_count": 20
        }
      ]
    },
    {
      "cell_type": "code",
      "source": [
        "del my_dict['apple']\n",
        "my_dict"
      ],
      "metadata": {
        "colab": {
          "base_uri": "https://localhost:8080/"
        },
        "id": "BYzoUsIxQLct",
        "outputId": "57bb23f5-82cb-4c1f-cb02-834801f3dad9"
      },
      "execution_count": null,
      "outputs": [
        {
          "output_type": "execute_result",
          "data": {
            "text/plain": [
              "{'spam': '午餐肉', 'egg': '雞蛋', 'ham': '火腿'}"
            ]
          },
          "metadata": {},
          "execution_count": 21
        }
      ]
    },
    {
      "cell_type": "code",
      "source": [
        "my_dict.keys()"
      ],
      "metadata": {
        "colab": {
          "base_uri": "https://localhost:8080/"
        },
        "id": "urtyzziyQTAj",
        "outputId": "dae99137-9844-4220-c6fd-607453d2a5dc"
      },
      "execution_count": null,
      "outputs": [
        {
          "output_type": "execute_result",
          "data": {
            "text/plain": [
              "dict_keys(['spam', 'egg', 'ham'])"
            ]
          },
          "metadata": {},
          "execution_count": 22
        }
      ]
    },
    {
      "cell_type": "code",
      "source": [
        "my_dict.values()"
      ],
      "metadata": {
        "colab": {
          "base_uri": "https://localhost:8080/"
        },
        "id": "JNQvwe3-QXC5",
        "outputId": "55d3bce7-f4a9-4d1e-d1f9-64ee8bf4ee20"
      },
      "execution_count": null,
      "outputs": [
        {
          "output_type": "execute_result",
          "data": {
            "text/plain": [
              "dict_values(['午餐肉', '雞蛋', '火腿'])"
            ]
          },
          "metadata": {},
          "execution_count": 23
        }
      ]
    },
    {
      "cell_type": "markdown",
      "source": [
        "課本P1-36 冒險9 用Markdown做美美筆記\n",
        "練習: 增加文字區Text(在Jupyter Notebook則是選取Markdown)\n",
        "##第二大標題\n",
        "###第三大標題\n",
        "*   matplotlib\n",
        "*   numpy\n",
        "\n",
        "\n"
      ],
      "metadata": {
        "id": "YnG4svGVSb3b"
      }
    },
    {
      "cell_type": "code",
      "source": [],
      "metadata": {
        "id": "gAp0yI4DZjOy"
      },
      "execution_count": null,
      "outputs": []
    },
    {
      "cell_type": "markdown",
      "source": [
        "課本P1-45 冒險10 Hello, World!\n",
        "學習每一種程式語言通常都會練習在螢幕顯示Hello World!\n",
        "練習:print()函式的用法, Python內建超強的列印函式\n",
        "print('文字',變數, 運算式) "
      ],
      "metadata": {
        "id": "l0b89jZ8U_3w"
      }
    },
    {
      "cell_type": "code",
      "source": [
        "# Page 1-45\n",
        "print('Hello, world')"
      ],
      "metadata": {
        "id": "KvI8oonwZiL8",
        "colab": {
          "base_uri": "https://localhost:8080/"
        },
        "outputId": "3511a041-84d1-4b77-d070-836b1dc2d507"
      },
      "execution_count": null,
      "outputs": [
        {
          "output_type": "stream",
          "name": "stdout",
          "text": [
            "Hello, world\n"
          ]
        }
      ]
    },
    {
      "cell_type": "code",
      "source": [
        "name = 'Elvis'\n",
        "print('你好' + name + '!')"
      ],
      "metadata": {
        "colab": {
          "base_uri": "https://localhost:8080/"
        },
        "id": "oJpAuWMlQwjL",
        "outputId": "eea57d13-6ad3-46a2-98f3-0554bf7da8bc"
      },
      "execution_count": null,
      "outputs": [
        {
          "output_type": "stream",
          "name": "stdout",
          "text": [
            "你好Elvis!\n"
          ]
        }
      ]
    },
    {
      "cell_type": "code",
      "source": [
        "message = '考試過關的秘訣:1準時上課2專心聽課3動手練習4排除錯誤'\n",
        "print(message)"
      ],
      "metadata": {
        "colab": {
          "base_uri": "https://localhost:8080/"
        },
        "id": "RDMwQdNeRI25",
        "outputId": "da4c397a-7df6-4958-c916-d5f65ce37e2c"
      },
      "execution_count": null,
      "outputs": [
        {
          "output_type": "stream",
          "name": "stdout",
          "text": [
            "考試過關的秘訣:1準時上課2專心聽課3動手練習4排除錯誤\n"
          ]
        }
      ]
    },
    {
      "cell_type": "code",
      "source": [
        "# 超酷的換行功能一定要學起來\n",
        "message = '''\n",
        "考試過關的秘訣:\n",
        "1準時上課\n",
        "2專心聽課\n",
        "3動手練習\n",
        "4排除錯誤\n",
        "'''\n",
        "print(message)"
      ],
      "metadata": {
        "colab": {
          "base_uri": "https://localhost:8080/"
        },
        "id": "59PwwFLdR-YZ",
        "outputId": "5e69b5b2-b873-4b88-c0e9-36906fbc0745"
      },
      "execution_count": null,
      "outputs": [
        {
          "output_type": "stream",
          "name": "stdout",
          "text": [
            "\n",
            "考試過關的秘訣:\n",
            "1準時上課\n",
            "2專心聽課\n",
            "3動手練習\n",
            "4排除錯誤\n",
            "\n"
          ]
        }
      ]
    },
    {
      "cell_type": "markdown",
      "source": [
        "課本P1-48 冒險11 做一個拍拍機器人\n",
        "練習: 使用input()函式要求使用者輸入資料\n",
        "應用: 匯率換算機器人, 輸入日幤及匯率, 自動換算成台幤金額"
      ],
      "metadata": {
        "id": "7A8BpTk-VzIw"
      }
    },
    {
      "cell_type": "code",
      "source": [
        "# Page 1-48\n",
        "name = input('請輸入你的名字: ')"
      ],
      "metadata": {
        "id": "lgwz1kvIZhi-",
        "colab": {
          "base_uri": "https://localhost:8080/"
        },
        "outputId": "94a59893-3e74-46f1-d80d-bd595bc56ff2"
      },
      "execution_count": null,
      "outputs": [
        {
          "name": "stdout",
          "output_type": "stream",
          "text": [
            "請輸入你的名字: Elvis\n"
          ]
        }
      ]
    },
    {
      "cell_type": "code",
      "source": [
        "name"
      ],
      "metadata": {
        "colab": {
          "base_uri": "https://localhost:8080/",
          "height": 36
        },
        "id": "D2k3nwU6TyOb",
        "outputId": "22115682-a56f-4703-f98e-896deb81d39e"
      },
      "execution_count": null,
      "outputs": [
        {
          "output_type": "execute_result",
          "data": {
            "text/plain": [
              "'Elvis'"
            ],
            "application/vnd.google.colaboratory.intrinsic+json": {
              "type": "string"
            }
          },
          "metadata": {},
          "execution_count": 30
        }
      ]
    },
    {
      "cell_type": "code",
      "source": [
        "name = input('請問你叫什麼: ')\n",
        "print(name + '你好!')\n"
      ],
      "metadata": {
        "colab": {
          "base_uri": "https://localhost:8080/"
        },
        "id": "DJlcR9KoT0HQ",
        "outputId": "0e2a33ef-e6d7-4cec-d83d-bcb01aade536"
      },
      "execution_count": null,
      "outputs": [
        {
          "output_type": "stream",
          "name": "stdout",
          "text": [
            "請問你叫什麼: Elvis\n",
            "Elvis你好!\n"
          ]
        }
      ]
    },
    {
      "cell_type": "code",
      "source": [
        "# Page 1-49\n",
        "# 練習匯率換算\n",
        "c = 0.272174\n",
        "jpy = input('請輸入日圓金額: ')\n",
        "print('換成台幣為: ', jpy * c)"
      ],
      "metadata": {
        "colab": {
          "base_uri": "https://localhost:8080/",
          "height": 226
        },
        "id": "T-xds8XSUP9T",
        "outputId": "48749909-bdf3-4c84-87c6-c86cf65215ac"
      },
      "execution_count": null,
      "outputs": [
        {
          "name": "stdout",
          "output_type": "stream",
          "text": [
            "請輸入日圓金額: 500\n"
          ]
        },
        {
          "output_type": "error",
          "ename": "TypeError",
          "evalue": "ignored",
          "traceback": [
            "\u001b[0;31m---------------------------------------------------------------------------\u001b[0m",
            "\u001b[0;31mTypeError\u001b[0m                                 Traceback (most recent call last)",
            "\u001b[0;32m<ipython-input-32-cbf89d24d4d4>\u001b[0m in \u001b[0;36m<module>\u001b[0;34m\u001b[0m\n\u001b[1;32m      3\u001b[0m \u001b[0mc\u001b[0m \u001b[0;34m=\u001b[0m \u001b[0;36m0.272174\u001b[0m\u001b[0;34m\u001b[0m\u001b[0;34m\u001b[0m\u001b[0m\n\u001b[1;32m      4\u001b[0m \u001b[0mjpy\u001b[0m \u001b[0;34m=\u001b[0m \u001b[0minput\u001b[0m\u001b[0;34m(\u001b[0m\u001b[0;34m'請輸入日圓金額: '\u001b[0m\u001b[0;34m)\u001b[0m\u001b[0;34m\u001b[0m\u001b[0;34m\u001b[0m\u001b[0m\n\u001b[0;32m----> 5\u001b[0;31m \u001b[0mprint\u001b[0m\u001b[0;34m(\u001b[0m\u001b[0;34m'換成台幣為: '\u001b[0m\u001b[0;34m,\u001b[0m \u001b[0mjpy\u001b[0m \u001b[0;34m*\u001b[0m \u001b[0mc\u001b[0m\u001b[0;34m)\u001b[0m\u001b[0;34m\u001b[0m\u001b[0;34m\u001b[0m\u001b[0m\n\u001b[0m",
            "\u001b[0;31mTypeError\u001b[0m: can't multiply sequence by non-int of type 'float'"
          ]
        }
      ]
    },
    {
      "cell_type": "code",
      "source": [
        "print('jpy=',type(jpy), 'c=',type(c))"
      ],
      "metadata": {
        "colab": {
          "base_uri": "https://localhost:8080/"
        },
        "id": "d5gNgLauVMwr",
        "outputId": "efb81dc2-a8a0-4915-8d89-58d7d8fa6605"
      },
      "execution_count": null,
      "outputs": [
        {
          "output_type": "stream",
          "name": "stdout",
          "text": [
            "jpy= <class 'str'> c= <class 'float'>\n"
          ]
        }
      ]
    },
    {
      "cell_type": "code",
      "source": [
        "float(jpy)"
      ],
      "metadata": {
        "colab": {
          "base_uri": "https://localhost:8080/"
        },
        "id": "PjLIv4lbVjcg",
        "outputId": "1fb5e914-40e6-458c-9964-c6b9b659f03e"
      },
      "execution_count": null,
      "outputs": [
        {
          "output_type": "execute_result",
          "data": {
            "text/plain": [
              "500.0"
            ]
          },
          "metadata": {},
          "execution_count": 36
        }
      ]
    },
    {
      "cell_type": "code",
      "source": [
        "int(jpy)"
      ],
      "metadata": {
        "colab": {
          "base_uri": "https://localhost:8080/"
        },
        "id": "IxGNI_GzVm-A",
        "outputId": "3758a6a3-d0b9-4f15-dedf-d20730040692"
      },
      "execution_count": null,
      "outputs": [
        {
          "output_type": "execute_result",
          "data": {
            "text/plain": [
              "500"
            ]
          },
          "metadata": {},
          "execution_count": 37
        }
      ]
    },
    {
      "cell_type": "code",
      "source": [
        "c = 0.272174\n",
        "jpy = input('請輸入日圓金額: ')\n",
        "print('換成台幣為: ', float(jpy) * c)"
      ],
      "metadata": {
        "colab": {
          "base_uri": "https://localhost:8080/"
        },
        "id": "ULzQxFsxVo48",
        "outputId": "5e0a32bf-b827-4ab5-bd3d-e9d99573331f"
      },
      "execution_count": null,
      "outputs": [
        {
          "output_type": "stream",
          "name": "stdout",
          "text": [
            "請輸入日圓金額: 500\n",
            "換成台幣為:  136.08700000000002\n"
          ]
        }
      ]
    },
    {
      "cell_type": "code",
      "source": [
        "# Page 1-50\n",
        "c = 0.272174\n",
        "jpy = input('請輸入日圓金額: ')\n",
        "jpy = float(jpy)\n",
        "print('換成台幣為: ', float(jpy) * c)  #float(jpy)是否可改為jpy"
      ],
      "metadata": {
        "colab": {
          "base_uri": "https://localhost:8080/"
        },
        "id": "-po5xaBEV3Qw",
        "outputId": "d81a0a1e-bdc9-4fc6-d7ca-6c2a25099631"
      },
      "execution_count": null,
      "outputs": [
        {
          "output_type": "stream",
          "name": "stdout",
          "text": [
            "請輸入日圓金額: 500\n",
            "換成台幣為:  136.08700000000002\n"
          ]
        }
      ]
    },
    {
      "cell_type": "code",
      "source": [
        "jpy = float(input('請輸入日圓金額:'))"
      ],
      "metadata": {
        "colab": {
          "base_uri": "https://localhost:8080/"
        },
        "id": "QDmB4auYWW0G",
        "outputId": "a786db07-701e-441d-ec91-5067123815ed"
      },
      "execution_count": null,
      "outputs": [
        {
          "name": "stdout",
          "output_type": "stream",
          "text": [
            "請輸入日圓金額:500\n"
          ]
        }
      ]
    },
    {
      "cell_type": "code",
      "source": [
        "c = 0.272174\n",
        "jpy = float(input('請輸入日圓金額: '))\n",
        "print('換成台幣為: ', jpy * c)"
      ],
      "metadata": {
        "colab": {
          "base_uri": "https://localhost:8080/"
        },
        "id": "JGL1nwMjWfrA",
        "outputId": "6bf36616-011b-4238-f45a-48cc39a4e6d4"
      },
      "execution_count": null,
      "outputs": [
        {
          "output_type": "stream",
          "name": "stdout",
          "text": [
            "請輸入日圓金額:500\n",
            "換成台幣為:  136.08700000000002\n"
          ]
        }
      ]
    },
    {
      "cell_type": "markdown",
      "source": [
        "課本P1-53 冒險12 真的還假的?\n",
        "練習:自己可以決定所寫的指令在何種條件才能執行!\n",
        "應用:要求使用者輸入姓別, 判斷是女生或是男生.\n",
        "如果輸入是女生, 則print('妳真天生麗質!')\n",
        "如果輸入是男生, 則pintt('歐爸, 你太帥了!')"
      ],
      "metadata": {
        "id": "g9pjGPCYWmOs"
      }
    },
    {
      "cell_type": "code",
      "source": [
        "# Page 1-53\n",
        "2 < 3"
      ],
      "metadata": {
        "id": "Oh7zeSW0ZeLJ",
        "colab": {
          "base_uri": "https://localhost:8080/"
        },
        "outputId": "e7297772-a6c2-477f-f601-b4432eabba0d"
      },
      "execution_count": null,
      "outputs": [
        {
          "output_type": "execute_result",
          "data": {
            "text/plain": [
              "True"
            ]
          },
          "metadata": {},
          "execution_count": 42
        }
      ]
    },
    {
      "cell_type": "code",
      "source": [
        "# 指派數字7給變數a\n",
        "a = 7"
      ],
      "metadata": {
        "id": "ZYyiK_tWW2hy"
      },
      "execution_count": null,
      "outputs": []
    },
    {
      "cell_type": "code",
      "source": [
        "# 比較a與8是否相等\n",
        "a == 8 "
      ],
      "metadata": {
        "colab": {
          "base_uri": "https://localhost:8080/"
        },
        "id": "ZKy6gGwbXG93",
        "outputId": "b9b269d6-5f67-4a4a-8a11-a103f3baeec0"
      },
      "execution_count": null,
      "outputs": [
        {
          "output_type": "execute_result",
          "data": {
            "text/plain": [
              "False"
            ]
          },
          "metadata": {},
          "execution_count": 44
        }
      ]
    },
    {
      "cell_type": "code",
      "source": [
        "# 比較a與8是否不相等\n",
        "a != 8 "
      ],
      "metadata": {
        "colab": {
          "base_uri": "https://localhost:8080/"
        },
        "id": "x9n-JwkNXS69",
        "outputId": "be3e93ab-d938-4a4f-acee-07ae17c2b99c"
      },
      "execution_count": null,
      "outputs": [
        {
          "output_type": "execute_result",
          "data": {
            "text/plain": [
              "True"
            ]
          },
          "metadata": {},
          "execution_count": 45
        }
      ]
    },
    {
      "cell_type": "code",
      "source": [
        "a >= 6"
      ],
      "metadata": {
        "colab": {
          "base_uri": "https://localhost:8080/"
        },
        "id": "BOC0k242XYmA",
        "outputId": "d2c71722-e92e-4ff1-946f-e3bd6dff71aa"
      },
      "execution_count": null,
      "outputs": [
        {
          "output_type": "execute_result",
          "data": {
            "text/plain": [
              "True"
            ]
          },
          "metadata": {},
          "execution_count": 47
        }
      ]
    },
    {
      "cell_type": "code",
      "source": [
        "a <= 6"
      ],
      "metadata": {
        "colab": {
          "base_uri": "https://localhost:8080/"
        },
        "id": "ebZywbQAXhSA",
        "outputId": "8d04f045-8147-4897-a73e-968651cdb6dd"
      },
      "execution_count": null,
      "outputs": [
        {
          "output_type": "execute_result",
          "data": {
            "text/plain": [
              "False"
            ]
          },
          "metadata": {},
          "execution_count": 48
        }
      ]
    },
    {
      "cell_type": "code",
      "source": [
        "grade = 87\n",
        "if grade >= 60:\n",
        "  print('及格了!')   #print指令只有當if條件成立才會執行"
      ],
      "metadata": {
        "colab": {
          "base_uri": "https://localhost:8080/"
        },
        "id": "zz4GHbqtXmez",
        "outputId": "4b88223d-82cf-417b-a28f-a57e4799284f"
      },
      "execution_count": null,
      "outputs": [
        {
          "output_type": "stream",
          "name": "stdout",
          "text": [
            "及格了!\n"
          ]
        }
      ]
    },
    {
      "cell_type": "code",
      "source": [
        "# Page 1-55\n",
        "grade = 59\n",
        "if grade >= 60:\n",
        "  print('及格了!')\n",
        "else:\n",
        "  print('下次考試再多努力吧!')"
      ],
      "metadata": {
        "colab": {
          "base_uri": "https://localhost:8080/"
        },
        "id": "o3O1jXnzYFcU",
        "outputId": "58993281-116e-40ff-cca9-5f540c66fbdd"
      },
      "execution_count": null,
      "outputs": [
        {
          "output_type": "stream",
          "name": "stdout",
          "text": [
            "下次考試再多努力吧!\n"
          ]
        }
      ]
    },
    {
      "cell_type": "code",
      "source": [
        "# 超過二種條件的解決方式: 使用elif\n",
        "grade = 66\n",
        "if grade >= 80:\n",
        "  print('太神了!')\n",
        "elif grade >= 60:\n",
        "  print('好險低空過關!')\n",
        "elif grade > 50:\n",
        "  print('還差幾分, 再加油')\n",
        "else:\n",
        "  print('下次考試再多努力吧!')"
      ],
      "metadata": {
        "colab": {
          "base_uri": "https://localhost:8080/"
        },
        "id": "EP4-jFIdYcEQ",
        "outputId": "690ddb97-666d-4bd7-f619-b2495d316c39"
      },
      "execution_count": null,
      "outputs": [
        {
          "output_type": "stream",
          "name": "stdout",
          "text": [
            "好險低空過關!\n"
          ]
        }
      ]
    },
    {
      "cell_type": "code",
      "source": [
        "# Page 1-56\n",
        "'Z' > 'B'"
      ],
      "metadata": {
        "colab": {
          "base_uri": "https://localhost:8080/"
        },
        "id": "9cVaeWkCZdrO",
        "outputId": "1fff752d-d461-4ea2-e055-49aba72dd6c4"
      },
      "execution_count": null,
      "outputs": [
        {
          "output_type": "execute_result",
          "data": {
            "text/plain": [
              "True"
            ]
          },
          "metadata": {},
          "execution_count": 53
        }
      ]
    },
    {
      "cell_type": "code",
      "source": [
        "# 判斷悲傷是否在句子'我今天很悲傷'\n",
        "'悲傷' in '我今天很悲傷'"
      ],
      "metadata": {
        "colab": {
          "base_uri": "https://localhost:8080/"
        },
        "id": "QAxGb0akZmN1",
        "outputId": "aa9c2643-6d13-4a78-e66f-fa4af66cfd99"
      },
      "execution_count": null,
      "outputs": [
        {
          "output_type": "execute_result",
          "data": {
            "text/plain": [
              "True"
            ]
          },
          "metadata": {},
          "execution_count": 54
        }
      ]
    },
    {
      "cell_type": "code",
      "source": [
        "'快樂' in '我今天很悲傷'"
      ],
      "metadata": {
        "colab": {
          "base_uri": "https://localhost:8080/"
        },
        "id": "97ZBHhj9aNWj",
        "outputId": "d306c0de-2cc4-4f5d-87a8-2eb08ddddb93"
      },
      "execution_count": null,
      "outputs": [
        {
          "output_type": "execute_result",
          "data": {
            "text/plain": [
              "False"
            ]
          },
          "metadata": {},
          "execution_count": 55
        }
      ]
    },
    {
      "cell_type": "markdown",
      "source": [
        "課本P1-57 冒險13 串列索引和生成\n",
        "練習:利用range()函式快速生成串列list\n",
        "學習:串列list的索引觀念, 並進一步利用索引讀取串列中部份元素\n",
        "索引由左至右的算法:0,1,2,3....\n",
        "赤引由右至左的算法:-1,-2,-3...\n",
        "\n"
      ],
      "metadata": {
        "id": "Ah4wR3vRX8Ql"
      }
    },
    {
      "cell_type": "code",
      "source": [
        "range(10)"
      ],
      "metadata": {
        "id": "yaK3kuSMcP4b",
        "colab": {
          "base_uri": "https://localhost:8080/"
        },
        "outputId": "6f75427d-9ed8-4ebb-a90a-beb2b467f0e0"
      },
      "execution_count": null,
      "outputs": [
        {
          "output_type": "execute_result",
          "data": {
            "text/plain": [
              "range(0, 10)"
            ]
          },
          "metadata": {},
          "execution_count": 56
        }
      ]
    },
    {
      "cell_type": "code",
      "source": [
        "list(range(10))"
      ],
      "metadata": {
        "colab": {
          "base_uri": "https://localhost:8080/"
        },
        "id": "jK7dH33QfT3v",
        "outputId": "1e9d65b7-8321-4556-9699-8bcb8ceb2c5b"
      },
      "execution_count": null,
      "outputs": [
        {
          "output_type": "execute_result",
          "data": {
            "text/plain": [
              "[0, 1, 2, 3, 4, 5, 6, 7, 8, 9]"
            ]
          },
          "metadata": {},
          "execution_count": 57
        }
      ]
    },
    {
      "cell_type": "code",
      "source": [
        "egg = list(range(10))\n",
        "egg"
      ],
      "metadata": {
        "colab": {
          "base_uri": "https://localhost:8080/"
        },
        "id": "A_nIyl1JfYW-",
        "outputId": "845d8e11-ef3a-41c5-d23b-fbe37a47087f"
      },
      "execution_count": null,
      "outputs": [
        {
          "output_type": "execute_result",
          "data": {
            "text/plain": [
              "[0, 1, 2, 3, 4, 5, 6, 7, 8, 9]"
            ]
          },
          "metadata": {},
          "execution_count": 58
        }
      ]
    },
    {
      "cell_type": "code",
      "source": [
        "# Page 1-58\n",
        "list(range(2, 10))"
      ],
      "metadata": {
        "colab": {
          "base_uri": "https://localhost:8080/"
        },
        "id": "CJR9h6O8fe-q",
        "outputId": "6be55acf-af4f-4f62-eceb-70cca2f9270d"
      },
      "execution_count": null,
      "outputs": [
        {
          "output_type": "execute_result",
          "data": {
            "text/plain": [
              "[2, 3, 4, 5, 6, 7, 8, 9]"
            ]
          },
          "metadata": {},
          "execution_count": 59
        }
      ]
    },
    {
      "cell_type": "code",
      "source": [
        "list(range(1, 16, 2))"
      ],
      "metadata": {
        "colab": {
          "base_uri": "https://localhost:8080/"
        },
        "id": "6-RN7VqoflRR",
        "outputId": "e24c6191-0436-4d50-cdd5-ff7eb85a6e08"
      },
      "execution_count": null,
      "outputs": [
        {
          "output_type": "execute_result",
          "data": {
            "text/plain": [
              "[1, 3, 5, 7, 9, 11, 13, 15]"
            ]
          },
          "metadata": {},
          "execution_count": 60
        }
      ]
    },
    {
      "cell_type": "code",
      "source": [
        "奇怪的串列 = [37, 85, [2,3,6], 'cat', 49]\n",
        "奇怪的串列 "
      ],
      "metadata": {
        "colab": {
          "base_uri": "https://localhost:8080/"
        },
        "id": "qgUWAnpdfqem",
        "outputId": "a4e9d6c0-5cdf-40de-d08d-bf7e5b6de918"
      },
      "execution_count": null,
      "outputs": [
        {
          "output_type": "execute_result",
          "data": {
            "text/plain": [
              "[37, 85, [2, 3, 6], 'cat', 49]"
            ]
          },
          "metadata": {},
          "execution_count": 61
        }
      ]
    },
    {
      "cell_type": "code",
      "source": [
        "ham = list('ABCDEFGHIJK')\n",
        "ham"
      ],
      "metadata": {
        "colab": {
          "base_uri": "https://localhost:8080/"
        },
        "id": "FCOu4Zoyf7kX",
        "outputId": "84a7c400-406c-434a-a2dc-9b3bb383fed8"
      },
      "execution_count": null,
      "outputs": [
        {
          "output_type": "execute_result",
          "data": {
            "text/plain": [
              "['A', 'B', 'C', 'D', 'E', 'F', 'G', 'H', 'I', 'J', 'K']"
            ]
          },
          "metadata": {},
          "execution_count": 62
        }
      ]
    },
    {
      "cell_type": "code",
      "source": [
        "# Page 1-59\n",
        "ham[2]"
      ],
      "metadata": {
        "colab": {
          "base_uri": "https://localhost:8080/",
          "height": 36
        },
        "id": "frBgDcmJgDCd",
        "outputId": "9854d444-b45d-462e-8536-e6b7c254fe0b"
      },
      "execution_count": null,
      "outputs": [
        {
          "output_type": "execute_result",
          "data": {
            "text/plain": [
              "'C'"
            ],
            "application/vnd.google.colaboratory.intrinsic+json": {
              "type": "string"
            }
          },
          "metadata": {},
          "execution_count": 63
        }
      ]
    },
    {
      "cell_type": "code",
      "source": [
        "ham[-2]"
      ],
      "metadata": {
        "colab": {
          "base_uri": "https://localhost:8080/",
          "height": 36
        },
        "id": "JnBn8If8gGW-",
        "outputId": "2ac5200d-495f-4674-cc06-da1f69d44f77"
      },
      "execution_count": null,
      "outputs": [
        {
          "output_type": "execute_result",
          "data": {
            "text/plain": [
              "'J'"
            ],
            "application/vnd.google.colaboratory.intrinsic+json": {
              "type": "string"
            }
          },
          "metadata": {},
          "execution_count": 64
        }
      ]
    },
    {
      "cell_type": "code",
      "source": [
        "ham[3:6]"
      ],
      "metadata": {
        "colab": {
          "base_uri": "https://localhost:8080/"
        },
        "id": "t1IEIFPFgIJT",
        "outputId": "9bc98f9c-a4c7-43e2-a81c-06eccc2e5c32"
      },
      "execution_count": null,
      "outputs": [
        {
          "output_type": "execute_result",
          "data": {
            "text/plain": [
              "['D', 'E', 'F']"
            ]
          },
          "metadata": {},
          "execution_count": 65
        }
      ]
    },
    {
      "cell_type": "code",
      "source": [
        "ham[5:]"
      ],
      "metadata": {
        "colab": {
          "base_uri": "https://localhost:8080/"
        },
        "id": "GgCtU5CHgM5M",
        "outputId": "35495caa-989a-40ea-9993-385af6ed139c"
      },
      "execution_count": null,
      "outputs": [
        {
          "output_type": "execute_result",
          "data": {
            "text/plain": [
              "['F', 'G', 'H', 'I', 'J', 'K']"
            ]
          },
          "metadata": {},
          "execution_count": 66
        }
      ]
    },
    {
      "cell_type": "code",
      "source": [
        "ham[:5]"
      ],
      "metadata": {
        "colab": {
          "base_uri": "https://localhost:8080/"
        },
        "id": "zVwb5tP-gPhK",
        "outputId": "ac3e9b32-b833-42be-fb43-aecde93fa150"
      },
      "execution_count": null,
      "outputs": [
        {
          "output_type": "execute_result",
          "data": {
            "text/plain": [
              "['A', 'B', 'C', 'D', 'E']"
            ]
          },
          "metadata": {},
          "execution_count": 67
        }
      ]
    },
    {
      "cell_type": "code",
      "source": [
        "# Page 1-60\n",
        "ham[:-6]"
      ],
      "metadata": {
        "colab": {
          "base_uri": "https://localhost:8080/"
        },
        "id": "zN3nb6y9gT2Q",
        "outputId": "c0e28ef2-7fd6-4ca2-d882-2db2b28b309b"
      },
      "execution_count": null,
      "outputs": [
        {
          "output_type": "execute_result",
          "data": {
            "text/plain": [
              "['A', 'B', 'C', 'D', 'E']"
            ]
          },
          "metadata": {},
          "execution_count": 68
        }
      ]
    },
    {
      "cell_type": "code",
      "source": [
        "ham[:]"
      ],
      "metadata": {
        "colab": {
          "base_uri": "https://localhost:8080/"
        },
        "id": "aajozQyzgY2C",
        "outputId": "48dc5631-0a48-4c42-d354-18369fa8af4c"
      },
      "execution_count": null,
      "outputs": [
        {
          "output_type": "execute_result",
          "data": {
            "text/plain": [
              "['A', 'B', 'C', 'D', 'E', 'F', 'G', 'H', 'I', 'J', 'K']"
            ]
          },
          "metadata": {},
          "execution_count": 69
        }
      ]
    },
    {
      "cell_type": "code",
      "source": [
        "egg = 'ABCDEFGHIJK'\n",
        "egg[:-6]"
      ],
      "metadata": {
        "colab": {
          "base_uri": "https://localhost:8080/",
          "height": 36
        },
        "id": "MBk4op__gaj8",
        "outputId": "e289872f-bd57-4fab-9e62-461e54200d9b"
      },
      "execution_count": null,
      "outputs": [
        {
          "output_type": "execute_result",
          "data": {
            "text/plain": [
              "'ABCDE'"
            ],
            "application/vnd.google.colaboratory.intrinsic+json": {
              "type": "string"
            }
          },
          "metadata": {},
          "execution_count": 70
        }
      ]
    },
    {
      "cell_type": "code",
      "source": [
        "egg[::2]"
      ],
      "metadata": {
        "colab": {
          "base_uri": "https://localhost:8080/",
          "height": 36
        },
        "id": "1_QM2O5ogtEG",
        "outputId": "a15359cb-1c03-42cd-e595-4d1f2cbfc724"
      },
      "execution_count": null,
      "outputs": [
        {
          "output_type": "execute_result",
          "data": {
            "text/plain": [
              "'ACEGIK'"
            ],
            "application/vnd.google.colaboratory.intrinsic+json": {
              "type": "string"
            }
          },
          "metadata": {},
          "execution_count": 71
        }
      ]
    },
    {
      "cell_type": "code",
      "source": [
        "# Page 1-61\n",
        "# 2*2矩陣\n",
        "A = [\n",
        "      [1,2],\n",
        "      [3,4]\n",
        "    ]\n",
        "A[0]"
      ],
      "metadata": {
        "colab": {
          "base_uri": "https://localhost:8080/"
        },
        "id": "wupR3imGg1TK",
        "outputId": "5c4b5851-6baf-4019-92c8-5f9d2a32209e"
      },
      "execution_count": null,
      "outputs": [
        {
          "output_type": "execute_result",
          "data": {
            "text/plain": [
              "[1, 2]"
            ]
          },
          "metadata": {},
          "execution_count": 73
        }
      ]
    },
    {
      "cell_type": "code",
      "source": [
        "A[0][1] #取出串列中第0列中索引值為1的值\n"
      ],
      "metadata": {
        "colab": {
          "base_uri": "https://localhost:8080/"
        },
        "id": "3QCt8d6Ehz2h",
        "outputId": "ea25669b-8587-472e-be33-b6fa63d053d0"
      },
      "execution_count": null,
      "outputs": [
        {
          "output_type": "execute_result",
          "data": {
            "text/plain": [
              "2"
            ]
          },
          "metadata": {},
          "execution_count": 74
        }
      ]
    },
    {
      "cell_type": "markdown",
      "source": [
        "課本P1-62 冒險14 用串列控制要做幾次for \n",
        "練習:由串列內的元素個數決定部份程式必須重執行幾次\n",
        "應用:串列spam=['豬','狗','牛'], 共有三個元素, for迴圈要求print()指令重複執行三次.\n",
        "課本中1-64\n",
        "s=0\n",
        "for i in range(1,101):\n",
        "  s = s + i #這個指令是什麼意思\n",
        "  print('1+2+...+100=',s)"
      ],
      "metadata": {
        "id": "MuTVoKxpcOsH"
      }
    },
    {
      "cell_type": "code",
      "source": [
        "# Page 1-62\n",
        "spam = [\"豬\",\"狗\",\"牛\"]"
      ],
      "metadata": {
        "id": "X2CEOpd2cOS2"
      },
      "execution_count": null,
      "outputs": []
    },
    {
      "cell_type": "code",
      "source": [
        "for i in spam: #spam是一個包含三個元素的串列,迴圈內程式會執行三次\n",
        "  print(i)"
      ],
      "metadata": {
        "colab": {
          "base_uri": "https://localhost:8080/"
        },
        "id": "xQnW_NfBpuTo",
        "outputId": "c4e42f86-8e9a-4f47-dd53-8e3792258685"
      },
      "execution_count": null,
      "outputs": [
        {
          "output_type": "stream",
          "name": "stdout",
          "text": [
            "豬\n",
            "狗\n",
            "牛\n"
          ]
        }
      ]
    },
    {
      "cell_type": "code",
      "source": [
        "for i in range(5):\n",
        "  print(i)"
      ],
      "metadata": {
        "colab": {
          "base_uri": "https://localhost:8080/"
        },
        "id": "zlqiC3p9FzHR",
        "outputId": "b3cabff5-20e2-4c47-dbf6-da59a10b2735"
      },
      "execution_count": null,
      "outputs": [
        {
          "output_type": "stream",
          "name": "stdout",
          "text": [
            "0\n",
            "1\n",
            "2\n",
            "3\n",
            "4\n"
          ]
        }
      ]
    },
    {
      "cell_type": "code",
      "source": [
        "# Page 1-63\n",
        "for i in range(10):\n",
        "  print(i, end = ' ')"
      ],
      "metadata": {
        "colab": {
          "base_uri": "https://localhost:8080/"
        },
        "id": "zQG4ceTXF-3J",
        "outputId": "b9b4e2c8-84a2-41b8-826d-135d6e7b8082"
      },
      "execution_count": null,
      "outputs": [
        {
          "output_type": "stream",
          "name": "stdout",
          "text": [
            "0 1 2 3 4 5 6 7 8 9 "
          ]
        }
      ]
    },
    {
      "cell_type": "code",
      "source": [
        "# Page 1-64\n",
        "s = 0\n",
        "for i in range(1, 101):\n",
        "  s = s + i\n",
        "print('1+2+...+100=',s)"
      ],
      "metadata": {
        "colab": {
          "base_uri": "https://localhost:8080/"
        },
        "id": "nVhMTZpqGL3_",
        "outputId": "5316eb28-a83a-439f-e1f2-7f107908af86"
      },
      "execution_count": null,
      "outputs": [
        {
          "output_type": "stream",
          "name": "stdout",
          "text": [
            "1+2+...+100= 5050\n"
          ]
        }
      ]
    },
    {
      "cell_type": "markdown",
      "source": [
        "課本P1-66 冒險15 直到這樣, while迴圈結束\n",
        "練習:重複執行部份的指令, 一直到設定條件不符合才結束\n",
        "應用:拍拍機器人的互動, 當輸入Bye, 則while迴圈結束. 拍拍機器人終止互動."
      ],
      "metadata": {
        "id": "NjoohgPEcfs1"
      }
    },
    {
      "cell_type": "code",
      "source": [
        "# Page 1-66\n",
        "i = 1\n",
        "face = \"(*<>*)\"\n",
        "while i <= 5:\n",
        "  print(face * i)\n",
        "  i = i + 1"
      ],
      "metadata": {
        "id": "Ku5uh-cNdd-L"
      },
      "execution_count": null,
      "outputs": []
    },
    {
      "cell_type": "code",
      "source": [
        "# Page 1-67\n",
        "message = \"\"\n",
        "while message != \"Bye\":\n",
        "  message = input(\">\")                    \n",
        "  print(\"(0><0):拍拍\")"
      ],
      "metadata": {
        "id": "prpg1qUmU-1s",
        "colab": {
          "base_uri": "https://localhost:8080/"
        },
        "outputId": "4d66dbc8-39fc-4463-8492-c6012b1d19d1"
      },
      "execution_count": null,
      "outputs": [
        {
          "output_type": "stream",
          "name": "stdout",
          "text": [
            ">How are you\n",
            "(0><0):拍拍\n",
            ">I feel good\n",
            "(0><0):拍拍\n",
            ">Bye\n",
            "(0><0):拍拍\n"
          ]
        }
      ]
    }
  ]
}